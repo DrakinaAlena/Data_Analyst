{
 "cells": [
  {
   "attachments": {},
   "cell_type": "markdown",
   "metadata": {},
   "source": [
    "# Подготовка рекомендательной системы для покупки курсов в онлайн-школе MasterMind"
   ]
  },
  {
   "attachments": {},
   "cell_type": "markdown",
   "metadata": {},
   "source": [
    "**ЦЕЛЬ**<br>\n",
    "Подготовить основу рекомендательной системы, благодаря которой можно будет предлагать клиентам интересные им курсы и тем самым повышать средний чек.\n",
    "\n",
    "**ЗАДАЧИ**<br>\n",
    "Оформление таблицы, в которой каждому курсу будет соответствовать по два рекомендованных к покупке курса.\n",
    "\n",
    "**КОНКРЕТНЫЕ ШАГИ (ФОРМАЛИЗОВАННЫЕ ЗАДАЧИ)**<br>\n",
    "- Проанализировать базу данных о продажах за 2017-2018 гг. с помощью SQL\n",
    "- Выгрузить из БД необходимые данные\n",
    "- Обработать данные в Python\n",
    "- Получить рекомендательную таблицу"
   ]
  },
  {
   "cell_type": "code",
   "execution_count": 83,
   "metadata": {},
   "outputs": [],
   "source": [
    "# импортируем все необходимые библиотеки и модули\n",
    "import pandas as pd\n",
    "import numpy as np\n",
    "from itertools import combinations\n",
    "from collections import Counter\n",
    "import psycopg2"
   ]
  },
  {
   "attachments": {},
   "cell_type": "markdown",
   "metadata": {},
   "source": [
    "Производим работу с базой данных с помощью SQL - запроса. Формируем таблицу, содержащую перечень всех пользователей, купивших более 1 курса, а также id купеленных ими курсов"
   ]
  },
  {
   "cell_type": "code",
   "execution_count": 84,
   "metadata": {},
   "outputs": [],
   "source": [
    "# запрос к БД содержащий SQL код\n",
    "try: \n",
    "    connection = psycopg2.connect( #параметры подключения к БД\n",
    "        dbname='skillfactory', \n",
    "        user='skillfactory',\n",
    "        host='84.201.134.129',\n",
    "        password='cCkxxLVrDE8EbvjueeMedPKt',\n",
    "        port=5432,\n",
    "    )\n",
    "    cursor = connection.cursor()\n",
    "    #SQL код, содержащий CTE (выдает перечень клиентов, которые покупали больше 1 курса, а также количество купелнных ими курсов)\n",
    "    # и основной запрос (выдает перечень клиентов, которые покупали больше 1 курса, а также id купленных ими курсов)\n",
    "    postgres_select_query = \"\"\" WITH interested_clients AS\n",
    "(\n",
    "SELECT user_id,\n",
    "COUNT (DISTINCT resource_id) AS quantity\n",
    "FROM final.carts c\n",
    "JOIN final.cart_items i ON i.cart_id = c.id\n",
    "WHERE state = 'successful'\n",
    "AND resource_type = 'Course'\n",
    "GROUP BY 1\n",
    "HAVING COUNT (DISTINCT resource_id) > 1\n",
    ")\n",
    "SELECT DISTINCT\n",
    "c.user_id, \n",
    "resource_id\n",
    "FROM final.carts c\n",
    "JOIN final.cart_items i ON i.cart_id = c.id\n",
    "JOIN interested_clients ic ON ic.user_id = c.user_id\n",
    "WHERE state = 'successful' AND resource_type = 'Course'\n",
    "ORDER BY 1 \"\"\"\n",
    "    cursor.execute(postgres_select_query)\n",
    "    courses_df=cursor.fetchall()\n",
    "    connection.commit()\n",
    "   \n",
    "except (Exception, psycopg2.Error) as error:\n",
    "    if connection:\n",
    "        print(\"Error\", error)\n",
    "finally:\n",
    "    if connection:\n",
    "        cursor.close()\n",
    "        connection.close()"
   ]
  },
  {
   "cell_type": "code",
   "execution_count": 85,
   "metadata": {},
   "outputs": [
    {
     "data": {
      "text/plain": [
       "[551, 566]                                     431\n",
       "[566, 794]                                     146\n",
       "[490, 566]                                     102\n",
       "[515, 551]                                      91\n",
       "[490, 551]                                      87\n",
       "                                              ... \n",
       "[519, 523, 562]                                  1\n",
       "[366, 523, 566, 809, 1115]                       1\n",
       "[509, 516, 553, 568, 745, 1099, 1103, 1125]      1\n",
       "[551, 1101]                                      1\n",
       "[756, 794, 1185]                                 1\n",
       "Name: resource_id, Length: 5483, dtype: int64"
      ]
     },
     "execution_count": 85,
     "metadata": {},
     "output_type": "execute_result"
    }
   ],
   "source": [
    "# преобразуем в DataFrame полученную благодаря SQL-запросу таблицу\n",
    "df = pd.DataFrame(courses_df)\n",
    "# переименовываем столбцы \n",
    "df = df.rename(columns={0:'user_id',1:'resource_id'})\n",
    "# группируем id курсов в списки по id клиентов\n",
    "combined_courses = df.groupby('user_id')['resource_id'].apply(list)\n",
    "#подсчитываем количество повторяющихся сочетаний купленных курсов\n",
    "combined_courses.value_counts()"
   ]
  },
  {
   "attachments": {},
   "cell_type": "markdown",
   "metadata": {},
   "source": [
    "Разбиваем все курсы по парам, ранжируем их для каждого курса и считаем, сколько различных пар курсов встречается вместе в покупках клиентов"
   ]
  },
  {
   "cell_type": "code",
   "execution_count": 86,
   "metadata": {},
   "outputs": [
    {
     "data": {
      "text/plain": [
       "3989"
      ]
     },
     "execution_count": 86,
     "metadata": {},
     "output_type": "execute_result"
    }
   ],
   "source": [
    "combined_courses_df = combined_courses.to_frame()\n",
    "couples_of_courses = combined_courses_df['resource_id'].apply(lambda x:list(combinations(np.unique(x),2)))\n",
    "couples_of_courses_df = couples_of_courses.to_frame()\n",
    "couples_of_courses_list = couples_of_courses_df['resource_id'].tolist()\n",
    "couples = set()\n",
    "for item in couples_of_courses_list:\n",
    "    for i in item:\n",
    "        couples.add(i)\n",
    "len(couples)"
   ]
  },
  {
   "attachments": {},
   "cell_type": "markdown",
   "metadata": {},
   "source": [
    "Подготовим список пар курсов для всех пользоватлей (содержит повторы), после чего найдем наиболее часто встречающиеся пары"
   ]
  },
  {
   "cell_type": "code",
   "execution_count": 87,
   "metadata": {},
   "outputs": [
    {
     "data": {
      "text/plain": [
       "[((551, 566), 797)]"
      ]
     },
     "execution_count": 87,
     "metadata": {},
     "output_type": "execute_result"
    }
   ],
   "source": [
    "list_for_count = list()\n",
    "for item in couples_of_courses_list:\n",
    "    for i in item:\n",
    "        list_for_count.append(i)\n",
    "        \n",
    "cnt = Counter(list_for_count)\n",
    "\n",
    "cnt.most_common(1)"
   ]
  },
  {
   "attachments": {},
   "cell_type": "markdown",
   "metadata": {},
   "source": [
    "С помощью SQL-запроса создаем таблицу рейтинга курсов, в которой первая колонка содержит id курса, а вторая - количество пользователей, купивших курс"
   ]
  },
  {
   "cell_type": "code",
   "execution_count": 88,
   "metadata": {},
   "outputs": [],
   "source": [
    "# запрос к БД содержащий SQL код\n",
    "try: \n",
    "    connection = psycopg2.connect( #параметры подключения к БД\n",
    "        dbname='skillfactory', \n",
    "        user='skillfactory',\n",
    "        host='84.201.134.129',\n",
    "        password='cCkxxLVrDE8EbvjueeMedPKt',\n",
    "        port=5432,\n",
    "    )\n",
    "    cursor = connection.cursor()\n",
    "    #SQL код\n",
    "    postgres_select_query = \"\"\" SELECT DISTINCT\n",
    "resource_id,\n",
    "count(user_id) as rating\n",
    "FROM final.carts c\n",
    "JOIN final.cart_items i ON i.cart_id = c.id\n",
    "WHERE state = 'successful' AND resource_type = 'Course'\n",
    "GROUP BY 1 \n",
    "ORDER BY 2 desc \"\"\"\n",
    "    cursor.execute(postgres_select_query)\n",
    "    rating_courses_df=cursor.fetchall()\n",
    "    connection.commit()\n",
    "   \n",
    "except (Exception, psycopg2.Error) as error:\n",
    "    if connection:\n",
    "        print(\"Error\", error)\n",
    "finally:\n",
    "    if connection:\n",
    "        cursor.close()\n",
    "        connection.close()"
   ]
  },
  {
   "cell_type": "code",
   "execution_count": 89,
   "metadata": {},
   "outputs": [
    {
     "data": {
      "text/html": [
       "<div>\n",
       "<style scoped>\n",
       "    .dataframe tbody tr th:only-of-type {\n",
       "        vertical-align: middle;\n",
       "    }\n",
       "\n",
       "    .dataframe tbody tr th {\n",
       "        vertical-align: top;\n",
       "    }\n",
       "\n",
       "    .dataframe thead th {\n",
       "        text-align: right;\n",
       "    }\n",
       "</style>\n",
       "<table border=\"1\" class=\"dataframe\">\n",
       "  <thead>\n",
       "    <tr style=\"text-align: right;\">\n",
       "      <th></th>\n",
       "      <th>resource_id</th>\n",
       "      <th>rating</th>\n",
       "    </tr>\n",
       "  </thead>\n",
       "  <tbody>\n",
       "    <tr>\n",
       "      <th>0</th>\n",
       "      <td>551</td>\n",
       "      <td>9570</td>\n",
       "    </tr>\n",
       "    <tr>\n",
       "      <th>1</th>\n",
       "      <td>566</td>\n",
       "      <td>6222</td>\n",
       "    </tr>\n",
       "    <tr>\n",
       "      <th>2</th>\n",
       "      <td>490</td>\n",
       "      <td>2712</td>\n",
       "    </tr>\n",
       "    <tr>\n",
       "      <th>3</th>\n",
       "      <td>794</td>\n",
       "      <td>2525</td>\n",
       "    </tr>\n",
       "    <tr>\n",
       "      <th>4</th>\n",
       "      <td>515</td>\n",
       "      <td>2049</td>\n",
       "    </tr>\n",
       "  </tbody>\n",
       "</table>\n",
       "</div>"
      ],
      "text/plain": [
       "   resource_id  rating\n",
       "0          551    9570\n",
       "1          566    6222\n",
       "2          490    2712\n",
       "3          794    2525\n",
       "4          515    2049"
      ]
     },
     "execution_count": 89,
     "metadata": {},
     "output_type": "execute_result"
    }
   ],
   "source": [
    "rating_courses_df = pd.DataFrame(rating_courses_df) # преобразуем в DataFrame\n",
    "rating_courses_df = rating_courses_df.rename(columns={0:'resource_id',1:'rating'}) #переименовываем столбцы \n",
    "rating_courses_df.head()"
   ]
  },
  {
   "attachments": {},
   "cell_type": "markdown",
   "metadata": {},
   "source": [
    "Создаем список уникальных курсов: в список уникальных курсов включены все курсы из представленных данных, в том числе те, которые не покупались. Поэтому список уникальных курсов больше количества курсов, представленных в рейтинге курсов"
   ]
  },
  {
   "cell_type": "code",
   "execution_count": 90,
   "metadata": {},
   "outputs": [],
   "source": [
    "# запрос к БД содержащий SQL код\n",
    "try: \n",
    "    connection = psycopg2.connect( #параметры подключения к БД\n",
    "        dbname='skillfactory', \n",
    "        user='skillfactory',\n",
    "        host='84.201.134.129',\n",
    "        password='cCkxxLVrDE8EbvjueeMedPKt',\n",
    "        port=5432,\n",
    "    )\n",
    "    cursor = connection.cursor()\n",
    "    #SQL код\n",
    "    postgres_select_query = \"\"\" SELECT \n",
    "    resource_id\n",
    "    FROM  final.cart_items\n",
    "    where resource_type = 'Course' \"\"\"\n",
    "    cursor.execute(postgres_select_query)\n",
    "    cart_items_df =cursor.fetchall()\n",
    "    connection.commit()\n",
    "   \n",
    "except (Exception, psycopg2.Error) as error:\n",
    "    if connection:\n",
    "        print(\"Error\", error)\n",
    "finally:\n",
    "    if connection:\n",
    "        cursor.close()\n",
    "        connection.close()"
   ]
  },
  {
   "cell_type": "code",
   "execution_count": 91,
   "metadata": {},
   "outputs": [],
   "source": [
    "cart_items_df = pd.DataFrame(cart_items_df) # преобразуем в DataFrame\n",
    "cart_items_df = cart_items_df.rename(columns={0:'resource_id'}) #переименовываем столбцы \n",
    "courses_list = cart_items_df['resource_id'].unique()"
   ]
  },
  {
   "attachments": {},
   "cell_type": "markdown",
   "metadata": {},
   "source": [
    "Создаем датафрейм с рейтингом пар курсов"
   ]
  },
  {
   "cell_type": "code",
   "execution_count": 92,
   "metadata": {},
   "outputs": [
    {
     "data": {
      "text/html": [
       "<div>\n",
       "<style scoped>\n",
       "    .dataframe tbody tr th:only-of-type {\n",
       "        vertical-align: middle;\n",
       "    }\n",
       "\n",
       "    .dataframe tbody tr th {\n",
       "        vertical-align: top;\n",
       "    }\n",
       "\n",
       "    .dataframe thead th {\n",
       "        text-align: right;\n",
       "    }\n",
       "</style>\n",
       "<table border=\"1\" class=\"dataframe\">\n",
       "  <thead>\n",
       "    <tr style=\"text-align: right;\">\n",
       "      <th></th>\n",
       "      <th>couples_courses</th>\n",
       "      <th>rating</th>\n",
       "    </tr>\n",
       "  </thead>\n",
       "  <tbody>\n",
       "    <tr>\n",
       "      <th>0</th>\n",
       "      <td>(551, 566)</td>\n",
       "      <td>797</td>\n",
       "    </tr>\n",
       "    <tr>\n",
       "      <th>1</th>\n",
       "      <td>(515, 551)</td>\n",
       "      <td>417</td>\n",
       "    </tr>\n",
       "    <tr>\n",
       "      <th>2</th>\n",
       "      <td>(489, 551)</td>\n",
       "      <td>311</td>\n",
       "    </tr>\n",
       "    <tr>\n",
       "      <th>3</th>\n",
       "      <td>(523, 551)</td>\n",
       "      <td>304</td>\n",
       "    </tr>\n",
       "    <tr>\n",
       "      <th>4</th>\n",
       "      <td>(566, 794)</td>\n",
       "      <td>290</td>\n",
       "    </tr>\n",
       "  </tbody>\n",
       "</table>\n",
       "</div>"
      ],
      "text/plain": [
       "  couples_courses  rating\n",
       "0      (551, 566)     797\n",
       "1      (515, 551)     417\n",
       "2      (489, 551)     311\n",
       "3      (523, 551)     304\n",
       "4      (566, 794)     290"
      ]
     },
     "execution_count": 92,
     "metadata": {},
     "output_type": "execute_result"
    }
   ],
   "source": [
    "couples_list = cnt.most_common()\n",
    "couples_list_df = pd.DataFrame(data=couples_list, columns = ['couples_courses', 'rating'])\n",
    "couples_list_df.head()"
   ]
  },
  {
   "attachments": {},
   "cell_type": "markdown",
   "metadata": {},
   "source": [
    "Для того, чтобы установить минимальную границу при работе с популярностью пар курсов, найдем среднее, медиану (второй квартиль), а также верхний и нижний квартили"
   ]
  },
  {
   "cell_type": "code",
   "execution_count": 93,
   "metadata": {},
   "outputs": [
    {
     "data": {
      "text/plain": [
       "10.031837553271497"
      ]
     },
     "execution_count": 93,
     "metadata": {},
     "output_type": "execute_result"
    }
   ],
   "source": [
    "couples_list_df['rating'].mean()"
   ]
  },
  {
   "cell_type": "code",
   "execution_count": 94,
   "metadata": {},
   "outputs": [
    {
     "data": {
      "text/plain": [
       "0.25    1.0\n",
       "0.50    3.0\n",
       "0.75    9.0\n",
       "Name: rating, dtype: float64"
      ]
     },
     "execution_count": 94,
     "metadata": {},
     "output_type": "execute_result"
    }
   ],
   "source": [
    "couples_list_df.rating.quantile([0.25,0.5,0.75])"
   ]
  },
  {
   "attachments": {},
   "cell_type": "markdown",
   "metadata": {},
   "source": [
    "Таким образом 75% сочетаний пар курсов покупались менее 9 раз\n",
    "\n",
    "В связи с этим полагаем, что целесообразно установить нижнюю границу равную 9:\n",
    "- если сочетание пар курсов встречалось менее 9 раз, тогда в качестве рекомендации следует брать первые два самые покупаемые курса ( датафрейм rating_courses_df: recommend_1 = 551, recommend_2 =566)"
   ]
  },
  {
   "cell_type": "code",
   "execution_count": 95,
   "metadata": {},
   "outputs": [],
   "source": [
    "#делаем словарь пар курсов, в котором ключ - это пара курсов, а значение - это частота покупки такой пары\n",
    "couples_dict = dict(cnt.most_common())"
   ]
  },
  {
   "attachments": {},
   "cell_type": "markdown",
   "metadata": {},
   "source": [
    "Прописываем функцию для поиска рекомендаций для курсов"
   ]
  },
  {
   "cell_type": "code",
   "execution_count": 96,
   "metadata": {},
   "outputs": [],
   "source": [
    "def recomm(id):\n",
    "    recomm_list = []\n",
    "    for i in couples_dict.keys():\n",
    "        if i[0] == id:\n",
    "            recomm_list.append((i, couples_dict[i]))\n",
    "        elif i[1] == id:\n",
    "            recomm_list.append((i, couples_dict[i]))\n",
    "    recomm_list_sort = sorted(recomm_list, key=lambda x:x[1], reverse=True)\n",
    "    return recomm_list_sort[:2]  "
   ]
  },
  {
   "attachments": {},
   "cell_type": "markdown",
   "metadata": {},
   "source": [
    "Осуществляем итерацию по всему списку курсов, чтобы заполнить таблицу с рекомендациями.\n",
    "При этому учитываем следующее:\n",
    "- мы обусловились, что частота покупки пар кусров для рекомендации не может быть меньше 9;\n",
    "- в случае, если частота покупки будет меньше 9 для второй рекомендации, то в качестве второй рекомендации фиксируем наиболее часто покупаемый курс (id 551);\n",
    "- в случае, если частота покупки для обеих рекомендация будет меньше 9, то в качестве первой рекомендации фиксируем наиболее часто покупаемый курс (id 551), а в качестве второй рекомендации - второй наиболее часто покупаемый курс (id 566)"
   ]
  },
  {
   "cell_type": "code",
   "execution_count": 97,
   "metadata": {},
   "outputs": [],
   "source": [
    "recommendation_df = pd.DataFrame(columns=['cours_id', 'first_recommendation', 'second_recommendation'])\n",
    "recommend_1 = 551\n",
    "recommend_2 =566\n",
    "for i in courses_list:\n",
    "    if len(recomm(i))==2:\n",
    "        if recomm(i)[0][1]<9 and recomm(i)[1][1]<9:\n",
    "            recommendation_df.loc[i] = [i, recommend_1, recommend_2]\n",
    "        elif recomm(i)[0][1]>=9 and recomm(i)[1][1]<9:\n",
    "            recommendation_df.loc[i] = [i, recomm(i)[0][0][1], recommend_1]\n",
    "        elif recomm(i)[0][1]>=9 and recomm(i)[1][1]>=9:\n",
    "            if i!=recomm(i)[1][0][1]:\n",
    "                recommendation_df.loc[i] = [i, recomm(i)[0][0][1], recomm(i)[1][0][1]]\n",
    "            elif i== recomm(i)[1][0][1]:\n",
    "                recommendation_df.loc[i] = [i, recomm(i)[0][0][1], recomm(i)[1][0][0]]\n",
    "    elif len(recomm(i)) == 1:\n",
    "        if recomm(i)[0][1]<9:\n",
    "            recommendation_df.loc[i] = [i, recommend_1, recommend_2]\n",
    "        elif recomm(i)[0][1]>=9:\n",
    "            recommendation_df.loc[i] = [i, recomm(i)[0][0][1], recommend_1]\n",
    "    elif len(recomm(i)) == 0:\n",
    "        recommendation_df.loc[i] = [i, recommend_1, recommend_2]  "
   ]
  },
  {
   "attachments": {},
   "cell_type": "markdown",
   "metadata": {},
   "source": [
    "Сортируем итоговую таблицу и делаем сброс индексов"
   ]
  },
  {
   "cell_type": "code",
   "execution_count": 98,
   "metadata": {},
   "outputs": [
    {
     "data": {
      "text/html": [
       "<div>\n",
       "<style scoped>\n",
       "    .dataframe tbody tr th:only-of-type {\n",
       "        vertical-align: middle;\n",
       "    }\n",
       "\n",
       "    .dataframe tbody tr th {\n",
       "        vertical-align: top;\n",
       "    }\n",
       "\n",
       "    .dataframe thead th {\n",
       "        text-align: right;\n",
       "    }\n",
       "</style>\n",
       "<table border=\"1\" class=\"dataframe\">\n",
       "  <thead>\n",
       "    <tr style=\"text-align: right;\">\n",
       "      <th></th>\n",
       "      <th>cours_id</th>\n",
       "      <th>first_recommendation</th>\n",
       "      <th>second_recommendation</th>\n",
       "    </tr>\n",
       "  </thead>\n",
       "  <tbody>\n",
       "    <tr>\n",
       "      <th>0</th>\n",
       "      <td>356</td>\n",
       "      <td>571</td>\n",
       "      <td>357</td>\n",
       "    </tr>\n",
       "    <tr>\n",
       "      <th>1</th>\n",
       "      <td>357</td>\n",
       "      <td>571</td>\n",
       "      <td>356</td>\n",
       "    </tr>\n",
       "    <tr>\n",
       "      <th>2</th>\n",
       "      <td>358</td>\n",
       "      <td>570</td>\n",
       "      <td>752</td>\n",
       "    </tr>\n",
       "    <tr>\n",
       "      <th>3</th>\n",
       "      <td>359</td>\n",
       "      <td>570</td>\n",
       "      <td>358</td>\n",
       "    </tr>\n",
       "    <tr>\n",
       "      <th>4</th>\n",
       "      <td>360</td>\n",
       "      <td>745</td>\n",
       "      <td>516</td>\n",
       "    </tr>\n",
       "  </tbody>\n",
       "</table>\n",
       "</div>"
      ],
      "text/plain": [
       "   cours_id  first_recommendation  second_recommendation\n",
       "0       356                   571                    357\n",
       "1       357                   571                    356\n",
       "2       358                   570                    752\n",
       "3       359                   570                    358\n",
       "4       360                   745                    516"
      ]
     },
     "execution_count": 98,
     "metadata": {},
     "output_type": "execute_result"
    }
   ],
   "source": [
    "recommendation_df = recommendation_df.sort_values('cours_id', ignore_index=True)\n",
    "recommendation_df.head()"
   ]
  },
  {
   "attachments": {},
   "cell_type": "markdown",
   "metadata": {},
   "source": [
    "Проверяем факт того, что все курсы вошли в созданную таблицу"
   ]
  },
  {
   "cell_type": "code",
   "execution_count": 99,
   "metadata": {},
   "outputs": [
    {
     "data": {
      "text/plain": [
       "True"
      ]
     },
     "execution_count": 99,
     "metadata": {},
     "output_type": "execute_result"
    }
   ],
   "source": [
    "len(courses_list) == recommendation_df['cours_id'].count()"
   ]
  },
  {
   "attachments": {},
   "cell_type": "markdown",
   "metadata": {},
   "source": [
    "\n",
    "Полученная таблица готова для внедрения на сайт онлайн-школы. Для определения эффективности необходимо запустить А/В тесты."
   ]
  }
 ],
 "metadata": {
  "kernelspec": {
   "display_name": "Python 3",
   "language": "python",
   "name": "python3"
  },
  "language_info": {
   "codemirror_mode": {
    "name": "ipython",
    "version": 3
   },
   "file_extension": ".py",
   "mimetype": "text/x-python",
   "name": "python",
   "nbconvert_exporter": "python",
   "pygments_lexer": "ipython3",
   "version": "3.9.10"
  },
  "orig_nbformat": 4
 },
 "nbformat": 4,
 "nbformat_minor": 2
}
